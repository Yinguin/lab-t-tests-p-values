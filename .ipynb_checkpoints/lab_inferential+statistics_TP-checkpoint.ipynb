{
 "cells": [
  {
   "cell_type": "markdown",
   "id": "71e412d8",
   "metadata": {},
   "source": [
    "In a packing plant, a machine packs cartons with jars. It is supposed that a new machine will pack faster on the average than the machine currently used. To test that hypothesis, the times it takes each machine to pack ten cartons are recorded. The results, in seconds, are shown in the tables in the file files_for_lab/machine.txt. Assume that there is sufficient evidence to conduct the t test, does the data provide sufficient evidence to show if one machine is better than the other"
   ]
  },
  {
   "cell_type": "code",
   "execution_count": 1,
   "id": "1b0d388a",
   "metadata": {},
   "outputs": [],
   "source": [
    "import pandas as pd\n",
    "import numpy as np\n",
    "from scipy import stats\n",
    "from scipy.stats import ttest_ind"
   ]
  },
  {
   "cell_type": "code",
   "execution_count": 2,
   "id": "8ce7e2e4",
   "metadata": {
    "scrolled": true
   },
   "outputs": [
    {
     "data": {
      "text/html": [
       "<div>\n",
       "<style scoped>\n",
       "    .dataframe tbody tr th:only-of-type {\n",
       "        vertical-align: middle;\n",
       "    }\n",
       "\n",
       "    .dataframe tbody tr th {\n",
       "        vertical-align: top;\n",
       "    }\n",
       "\n",
       "    .dataframe thead th {\n",
       "        text-align: right;\n",
       "    }\n",
       "</style>\n",
       "<table border=\"1\" class=\"dataframe\">\n",
       "  <thead>\n",
       "    <tr style=\"text-align: right;\">\n",
       "      <th></th>\n",
       "      <th>New machine</th>\n",
       "      <th>Old machine</th>\n",
       "    </tr>\n",
       "  </thead>\n",
       "  <tbody>\n",
       "    <tr>\n",
       "      <th>0</th>\n",
       "      <td>42.1</td>\n",
       "      <td>42.7</td>\n",
       "    </tr>\n",
       "    <tr>\n",
       "      <th>1</th>\n",
       "      <td>41.0</td>\n",
       "      <td>43.6</td>\n",
       "    </tr>\n",
       "    <tr>\n",
       "      <th>2</th>\n",
       "      <td>41.3</td>\n",
       "      <td>43.8</td>\n",
       "    </tr>\n",
       "    <tr>\n",
       "      <th>3</th>\n",
       "      <td>41.8</td>\n",
       "      <td>43.3</td>\n",
       "    </tr>\n",
       "    <tr>\n",
       "      <th>4</th>\n",
       "      <td>42.4</td>\n",
       "      <td>42.5</td>\n",
       "    </tr>\n",
       "    <tr>\n",
       "      <th>5</th>\n",
       "      <td>42.8</td>\n",
       "      <td>43.5</td>\n",
       "    </tr>\n",
       "    <tr>\n",
       "      <th>6</th>\n",
       "      <td>43.2</td>\n",
       "      <td>43.1</td>\n",
       "    </tr>\n",
       "    <tr>\n",
       "      <th>7</th>\n",
       "      <td>42.3</td>\n",
       "      <td>41.7</td>\n",
       "    </tr>\n",
       "    <tr>\n",
       "      <th>8</th>\n",
       "      <td>41.8</td>\n",
       "      <td>44.0</td>\n",
       "    </tr>\n",
       "    <tr>\n",
       "      <th>9</th>\n",
       "      <td>42.7</td>\n",
       "      <td>44.1</td>\n",
       "    </tr>\n",
       "  </tbody>\n",
       "</table>\n",
       "</div>"
      ],
      "text/plain": [
       "   New machine      Old machine\n",
       "0         42.1             42.7\n",
       "1         41.0             43.6\n",
       "2         41.3             43.8\n",
       "3         41.8             43.3\n",
       "4         42.4             42.5\n",
       "5         42.8             43.5\n",
       "6         43.2             43.1\n",
       "7         42.3             41.7\n",
       "8         41.8             44.0\n",
       "9         42.7             44.1"
      ]
     },
     "execution_count": 2,
     "metadata": {},
     "output_type": "execute_result"
    }
   ],
   "source": [
    "# Load data\n",
    "data = pd.read_csv('files_for_lab/machine.txt', delimiter='\\t', encoding='utf-16')\n",
    "data"
   ]
  },
  {
   "cell_type": "code",
   "execution_count": 3,
   "id": "1501b4e4",
   "metadata": {},
   "outputs": [
    {
     "data": {
      "text/plain": [
       "Index(['New machine', '    Old machine'], dtype='object')"
      ]
     },
     "execution_count": 3,
     "metadata": {},
     "output_type": "execute_result"
    }
   ],
   "source": [
    "data.columns"
   ]
  },
  {
   "cell_type": "code",
   "execution_count": 4,
   "id": "196fb958",
   "metadata": {},
   "outputs": [],
   "source": [
    "data.columns = ['new_machine','old_machine']"
   ]
  },
  {
   "cell_type": "code",
   "execution_count": 5,
   "id": "62c1c059",
   "metadata": {
    "scrolled": true
   },
   "outputs": [
    {
     "name": "stdout",
     "output_type": "stream",
     "text": [
      "mean_new = 42.14\n",
      "mean_old = 43.23\n",
      "std_new = 0.68\n",
      "std_old = 0.75\n"
     ]
    }
   ],
   "source": [
    "# Calculate the sample means and sample standard deviations\n",
    "mean_new = np.mean(data.new_machine)\n",
    "mean_old = np.mean(data.old_machine)\n",
    "std_new = np.std(data.new_machine, ddof=1)\n",
    "std_old = np.std(data.old_machine, ddof=1)\n",
    "\n",
    "print('mean_new =', round(mean_new,2))\n",
    "print('mean_old =', round(mean_old,2))\n",
    "print('std_new =', round(std_new,2))\n",
    "print('std_old =', round(std_old,2))"
   ]
  },
  {
   "cell_type": "markdown",
   "id": "7df3db74",
   "metadata": {},
   "source": [
    "**Step1**: Define the null hypothesis: The mean packing time of the new machine is equal to or longer than the mean packing time of the old machine.\n",
    "<br>H0: μ_new >= μ_old\n",
    "\n",
    "**Step 2:** Define the alternative hypothesis: The mean packing time of the new machine is shorter than the mean packing time of the old machine.\n",
    "<br>Ha: μ_new < μ_old \n",
    "\n",
    "**Step 3:** Determine if it is a one-tailed or a two-tailed test.\n",
    "<br>In this case: one-tailed test.\n",
    "\n",
    "**Step 4:** Decide a test statistics based on the information available. Assuming data is normally distributed and the number of observation is less than 30 (n=10), we will use a t-test.\n",
    "\n",
    "**Step 5:** Level of significance: This defines the rejection region/critical region, it's the probability of making the wrong decision when the null hypothesis is true. Usually it is 0.05.\n",
    " \n",
    "**Step 6:** Calculate the test statistic based on the given information.\n",
    "\n",
    "**Step 7:** Check the table to determine the critical value.\n",
    "<br> For t-test you have to calculate according to the degrees of freedom (df), which is the *sample_size - 1*.\n",
    "\n",
    "**Step 8:** Make conclusions:\n",
    "* If the test statistic falls in the critical region, then we reject the Null Hypothesis\n",
    "* If the test statistic falls in the region between the critical region, then we fail to reject the Null Hypothesis."
   ]
  },
  {
   "cell_type": "code",
   "execution_count": 6,
   "id": "5a5e69a9",
   "metadata": {},
   "outputs": [
    {
     "name": "stdout",
     "output_type": "stream",
     "text": [
      "Test statistic: -3.3972307061176026\n",
      "p-value: 0.0032111425007745158\n"
     ]
    }
   ],
   "source": [
    "# Conduct the t-test\n",
    "t_statistic, p_value = ttest_ind(data.new_machine, data.old_machine)\n",
    "print(\"Test statistic:\", t_statistic)\n",
    "print(\"p-value:\", p_value)"
   ]
  },
  {
   "cell_type": "code",
   "execution_count": 7,
   "id": "0f42f7a9",
   "metadata": {},
   "outputs": [
    {
     "data": {
      "text/plain": [
       "-3.397230706117603"
      ]
     },
     "execution_count": 7,
     "metadata": {},
     "output_type": "execute_result"
    }
   ],
   "source": [
    "# Manual calculation\n",
    "ttest = (mean_new-mean_old)/np.sqrt(std_new*std_new/len(data.new_machine)+std_old*std_old/len(data.old_machine))\n",
    "ttest"
   ]
  },
  {
   "cell_type": "code",
   "execution_count": 8,
   "id": "aa54297c",
   "metadata": {},
   "outputs": [
    {
     "data": {
      "text/plain": [
       "1.7340636066175354"
      ]
     },
     "execution_count": 8,
     "metadata": {},
     "output_type": "execute_result"
    }
   ],
   "source": [
    "# Compute critical region values\n",
    "alpha = 0.05\n",
    "df = len(data.new_machine) + len(data.old_machine) - 2\n",
    "critical_region = stats.t.ppf(1-alpha, df)\n",
    "critical_region"
   ]
  },
  {
   "cell_type": "code",
   "execution_count": 9,
   "id": "53cedf82",
   "metadata": {},
   "outputs": [
    {
     "name": "stdout",
     "output_type": "stream",
     "text": [
      "Reject the null hypothesis\n"
     ]
    }
   ],
   "source": [
    "# Compare the absolute value of t-statistic with the critical region\n",
    "if abs(t_statistic) > critical_region:\n",
    "    print(\"Reject the null hypothesis\")\n",
    "else:\n",
    "    print(\"Fail to reject the null hypothesis\")"
   ]
  },
  {
   "cell_type": "markdown",
   "id": "cafa76cd",
   "metadata": {},
   "source": [
    "An additional problem (not mandatory): In this case we can't assume that the population variances are equal. Hence in this case we cannot pool the variances. Independent random samples of 17 sophomores and 13 juniors attending a large university yield the following data on grade point averages. Data is provided in the file files_for_lab/student_gpa.txt. At the 5% significance level, do the data provide sufficient evidence to conclude that the mean GPAs of sophomores and juniors at the university differ?"
   ]
  },
  {
   "cell_type": "code",
   "execution_count": 10,
   "id": "d1f6a2d8",
   "metadata": {
    "scrolled": true
   },
   "outputs": [
    {
     "name": "stdout",
     "output_type": "stream",
     "text": [
      "    Sophomores    Juniors\n",
      "0         3.04       2.56\n",
      "1         1.71       2.77\n",
      "2         3.30       2.70\n",
      "3         2.88       3.00\n",
      "4         2.11       2.98\n",
      "5         2.60       3.47\n",
      "6         2.92       3.26\n",
      "7         3.60       3.20\n",
      "8         2.28       3.19\n",
      "9         2.82       2.65\n",
      "10        3.03       3.00\n",
      "11        3.13       3.39\n",
      "12        2.86       2.58\n",
      "13        3.49        NaN\n",
      "14        3.11        NaN\n",
      "15        2.13        NaN\n",
      "16        3.27        NaN\n"
     ]
    }
   ],
   "source": [
    "# Load data\n",
    "data1 = pd.read_csv('files_for_lab/student_gpa.txt', delimiter='\\t', encoding='utf-8')\n",
    "print(data1)"
   ]
  },
  {
   "cell_type": "code",
   "execution_count": 11,
   "id": "b30b66ac",
   "metadata": {},
   "outputs": [
    {
     "data": {
      "text/plain": [
       "Index(['Sophomores', '  Juniors'], dtype='object')"
      ]
     },
     "execution_count": 11,
     "metadata": {},
     "output_type": "execute_result"
    }
   ],
   "source": [
    "data1.columns"
   ]
  },
  {
   "cell_type": "code",
   "execution_count": 12,
   "id": "1dce7b82",
   "metadata": {
    "scrolled": true
   },
   "outputs": [
    {
     "name": "stdout",
     "output_type": "stream",
     "text": [
      "Sophomores: [3.04, 1.71, 3.3, 2.88, 2.11, 2.6, 2.92, 3.6, 2.28, 2.82, 3.03, 3.13, 2.86, 3.49, 3.11, 2.13, 3.27]\n",
      "Juniors: [2.56, 2.77, 2.7, 3.0, 2.98, 3.47, 3.26, 3.2, 3.19, 2.65, 3.0, 3.39, 2.58]\n"
     ]
    }
   ],
   "source": [
    "# Initialize empty lists\n",
    "sophomores = []\n",
    "juniors = []\n",
    "\n",
    "# Convert the columns into lists\n",
    "sophomores = data1['Sophomores'].tolist()\n",
    "juniors = data1['  Juniors'].dropna().tolist()\n",
    "\n",
    "print(\"Sophomores:\", sophomores)\n",
    "print(\"Juniors:\", juniors)"
   ]
  },
  {
   "cell_type": "code",
   "execution_count": 13,
   "id": "c88794eb",
   "metadata": {},
   "outputs": [
    {
     "name": "stdout",
     "output_type": "stream",
     "text": [
      "n_sophommores = 17\n",
      "n_juniours = 13\n",
      "mean_sophomores = 2.84\n",
      "mean_juniors = 2.98\n",
      "std_sophomores = 0.52\n",
      "std_juniors = 0.31\n"
     ]
    }
   ],
   "source": [
    "# Calculate the sample means and sample standard deviations\n",
    "ns = len(sophomores)\n",
    "nj = len(juniors)\n",
    "mean_s = np.mean(sophomores)\n",
    "mean_j = np.mean(juniors)\n",
    "std_s = np.std(sophomores, ddof=1)\n",
    "std_j = np.std(juniors, ddof=1)\n",
    "\n",
    "print('n_sophommores =', ns)\n",
    "print('n_juniours =', nj)\n",
    "print('mean_sophomores =', round(mean_s,2))\n",
    "print('mean_juniors =', round(mean_j,2))\n",
    "print('std_sophomores =', round(std_s,2))\n",
    "print('std_juniors =', round(std_j,2))"
   ]
  },
  {
   "cell_type": "markdown",
   "id": "acec9f71",
   "metadata": {},
   "source": [
    "H0: μ_sophomores = μ_juniors\n",
    "\n",
    "Ha: μ_sophomores != μ_juniors \n",
    "\n",
    "Two-tailed T-test\n",
    "\n",
    "Alpha = 0.05"
   ]
  },
  {
   "cell_type": "code",
   "execution_count": 14,
   "id": "ee1e72cb",
   "metadata": {},
   "outputs": [
    {
     "name": "stdout",
     "output_type": "stream",
     "text": [
      "Test statistic: -0.9231495630900278\n",
      "p-value: 0.3642180675348571\n"
     ]
    }
   ],
   "source": [
    "# Conduct the t-test\n",
    "t_statistic, p_value = ttest_ind(sophomores, juniors, equal_var=False)\n",
    "print(\"Test statistic:\", t_statistic)\n",
    "print(\"p-value:\", p_value)"
   ]
  },
  {
   "cell_type": "code",
   "execution_count": 15,
   "id": "9fe7b069",
   "metadata": {},
   "outputs": [
    {
     "data": {
      "text/plain": [
       "-0.9231495630900276"
      ]
     },
     "execution_count": 15,
     "metadata": {},
     "output_type": "execute_result"
    }
   ],
   "source": [
    "# Manual calculation\n",
    "ttest = (mean_s-mean_j)/np.sqrt((std_s*std_s/ns)+(std_j*std_j/nj))\n",
    "ttest"
   ]
  },
  {
   "cell_type": "code",
   "execution_count": 16,
   "id": "34292e45",
   "metadata": {},
   "outputs": [
    {
     "data": {
      "text/plain": [
       "2.048407141795244"
      ]
     },
     "execution_count": 16,
     "metadata": {},
     "output_type": "execute_result"
    }
   ],
   "source": [
    "# Compute critical region values\n",
    "alpha = 0.05\n",
    "df = ns + nj - 2\n",
    "critical_region = stats.t.ppf(1-alpha/2, df)\n",
    "critical_region"
   ]
  },
  {
   "cell_type": "code",
   "execution_count": 17,
   "id": "b7def340",
   "metadata": {},
   "outputs": [
    {
     "name": "stdout",
     "output_type": "stream",
     "text": [
      "Fail to reject the null hypothesis\n"
     ]
    }
   ],
   "source": [
    "# Compare the absolute value of t-statistic with the critical region\n",
    "if abs(t_statistic) > critical_region:\n",
    "    print(\"Reject the null hypothesis\")\n",
    "else:\n",
    "    print(\"Fail to reject the null hypothesis\")"
   ]
  }
 ],
 "metadata": {
  "kernelspec": {
   "display_name": "Python 3 (ipykernel)",
   "language": "python",
   "name": "python3"
  },
  "language_info": {
   "codemirror_mode": {
    "name": "ipython",
    "version": 3
   },
   "file_extension": ".py",
   "mimetype": "text/x-python",
   "name": "python",
   "nbconvert_exporter": "python",
   "pygments_lexer": "ipython3",
   "version": "3.9.13"
  }
 },
 "nbformat": 4,
 "nbformat_minor": 5
}
